{
 "cells": [
  {
   "cell_type": "code",
   "execution_count": 3,
   "metadata": {},
   "outputs": [],
   "source": [
    "import torch\n",
    "import numpy as np\n",
    "from sklearn.decomposition import TruncatedSVD\n",
    "from scipy.sparse import csr_matrix\n",
    "from sklearn.feature_extraction.text import TfidfVectorizer\n",
    "import pandas as pd"
   ]
  },
  {
   "cell_type": "code",
   "execution_count": 5,
   "metadata": {},
   "outputs": [
    {
     "name": "stdout",
     "output_type": "stream",
     "text": [
      "loaded df_dev\n"
     ]
    }
   ],
   "source": [
    "\n",
    "df_dev = pd.read_json('./Twibot-20/dev.json')\n",
    "\n",
    "print('loaded df_dev')"
   ]
  },
  {
   "cell_type": "code",
   "execution_count": 18,
   "metadata": {},
   "outputs": [],
   "source": [
    "import re\n",
    "\n",
    "example_tweet = \"RT @andersoncooper Today on @Anderson @PAAK: the debate over #ADHD -- are kids being overmedicated? #Thursday #Anderson\\n\""
   ]
  },
  {
   "cell_type": "code",
   "execution_count": 26,
   "metadata": {},
   "outputs": [
    {
     "name": "stdout",
     "output_type": "stream",
     "text": [
      "['andersoncooper']\n",
      "['Anderson', 'PAAK']\n"
     ]
    }
   ],
   "source": [
    "retweetUnameRegex = re.compile(r'(?<=RT @)(\\w{1,15})')\n",
    "mentionsUnameRegex = re.compile(r'(?<!RT @)(?<=@)(\\w{1,15})')\n",
    "# retweetUnameRegex.search(example_tweet)\n",
    "print(retweetUnameRegex.findall(example_tweet))\n",
    "print(mentionsUnameRegex.findall(example_tweet))\n",
    "# find = re.search(r'(?<=RT @)(\\w){1,15}', example_tweet)"
   ]
  },
  {
   "cell_type": "code",
   "execution_count": 53,
   "metadata": {},
   "outputs": [
    {
     "name": "stdout",
     "output_type": "stream",
     "text": [
      "<class 'pandas.core.frame.DataFrame'>\n"
     ]
    }
   ],
   "source": [
    "# extracting tweets dataframe from df_dev\n",
    "# each tweet has a body (text), id (T-userID-tweetNumberByUser), and neighbours - can extract neighbourhoods from userID as well as RT @uname/ @uname for mentions.\n",
    "## REGULAR EXPRESSIONS\n",
    "# Regex for capturing Retweet uname: (?<=RT @)(\\w{1,15})\n",
    "# Regex for Mention unames (All inclusive): (?<=@)(\\w{1,15})\n",
    "# Regex for Mention unames WITHOUT retweets: (?<!RT @)(?<=@)(\\w{1,15})\n",
    "\n",
    "# will extract the 3 different sets of neighbours separately then the different version of the dataset can use these freely.\n",
    "import re\n",
    "\n",
    "\n",
    "def extractNeighborUnameDict(tweet):\n",
    "    # extract retweet uname\n",
    "\n",
    "    retweet_uname = re.findall(r'(?<=RT @)(\\w{1,15})', tweet)\n",
    "\n",
    "    # extract mention unames without retweets\n",
    "    mentions_no_rt = re.findall(r'(?<!RT @)(?<=@)(\\w{1,15})', tweet)\n",
    "\n",
    "    return {\"retweeted\": retweet_uname, \"mentions\": mentions_no_rt}\n",
    "\n",
    "df_tweet = df_dev[df_dev.tweet.notnull()].apply(lambda x: pd.Series([{\"ID\": \"T\"+ str(x['ID']) + \"-\" + str(i), \"Body\": tweet, \"neighborUsernames\": extractNeighborUnameDict(tweet), \"tweeterId\": x['ID']} for (i,tweet) in enumerate(x['tweet'])]), axis=1)\n",
    "\n",
    "print(type(df_tweet))\n",
    "# print(df_tweet[:5])\n",
    "# unameDict = extractNeighborUnameDict(example_tweet)\n",
    "# print(unameDict)\n"
   ]
  },
  {
   "cell_type": "code",
   "execution_count": 49,
   "metadata": {},
   "outputs": [
    {
     "name": "stdout",
     "output_type": "stream",
     "text": [
      "RangeIndex(start=0, stop=200, step=1)\n",
      "(2350, 200)\n",
      "(5, 200)\n"
     ]
    }
   ],
   "source": [
    "print(df_tweet.columns)\n",
    "print(df_tweet.shape)\n",
    "\n",
    "print(df_tweet.head().shape)"
   ]
  },
  {
   "cell_type": "code",
   "execution_count": 63,
   "metadata": {},
   "outputs": [
    {
     "name": "stdout",
     "output_type": "stream",
     "text": [
      "0     0      {'ID': 'T1224667050301255680-0', 'Body': '@Spa...\n",
      "      1      {'ID': 'T1224667050301255680-1', 'Body': '@Bar...\n",
      "      2      {'ID': 'T1224667050301255680-2', 'Body': 'সেদি...\n",
      "      3      {'ID': 'T1224667050301255680-3', 'Body': 'নিজে...\n",
      "      4      {'ID': 'T1224667050301255680-4', 'Body': 'ফোন ...\n",
      "                                   ...                        \n",
      "2364  195    {'ID': 'T412642667-195', 'Body': 'RT @JaylaCym...\n",
      "      196    {'ID': 'T412642667-196', 'Body': 'RT @WWE: The...\n",
      "      197    {'ID': 'T412642667-197', 'Body': 'Cooking, Cla...\n",
      "      198    {'ID': 'T412642667-198', 'Body': 'RT @TheYBF: ...\n",
      "      199    {'ID': 'T412642667-199', 'Body': 'RT @TheYBF: ...\n",
      "Length: 401525, dtype: object\n",
      "(401525,)\n",
      "<class 'pandas.core.series.Series'>\n"
     ]
    }
   ],
   "source": [
    "print(df_tweet.stack())\n",
    "print(df_tweet.stack().shape)\n",
    "print(type(df_tweet.stack()))"
   ]
  },
  {
   "cell_type": "code",
   "execution_count": 67,
   "metadata": {},
   "outputs": [
    {
     "name": "stdout",
     "output_type": "stream",
     "text": [
      "(401525, 4)\n"
     ]
    }
   ],
   "source": [
    "df_tweet_alt = pd.DataFrame(list(df_tweet.stack()))\n",
    "print(df_tweet_alt.shape)"
   ]
  },
  {
   "cell_type": "code",
   "execution_count": 68,
   "metadata": {},
   "outputs": [
    {
     "name": "stdout",
     "output_type": "stream",
     "text": [
      "Index(['ID', 'Body', 'neighborUsernames', 'tweeterId'], dtype='object')\n"
     ]
    }
   ],
   "source": [
    "print(df_tweet_alt.columns)"
   ]
  },
  {
   "cell_type": "code",
   "execution_count": 75,
   "metadata": {},
   "outputs": [],
   "source": [
    "## Final code for extracting the tweets dataframe from df_dev\n",
    "\n",
    "df_tweet = df_dev[df_dev.tweet.notnull()].apply(lambda x: pd.Series([{\"ID\": \"T\"+ str(x['ID']) + \"-\" + str(i), \"Body\": tweet, **extractNeighborUnameDict(tweet), \"tweeterId\": x['ID']} for (i,tweet) in enumerate(x['tweet'])]), axis=1)\n",
    "df_tweet = pd.DataFrame(list(df_tweet.stack()))"
   ]
  },
  {
   "cell_type": "code",
   "execution_count": 76,
   "metadata": {},
   "outputs": [
    {
     "name": "stdout",
     "output_type": "stream",
     "text": [
      "Index(['ID', 'Body', 'retweeted', 'mentions', 'tweeterId'], dtype='object')\n"
     ]
    }
   ],
   "source": [
    "print(df_tweet.columns)"
   ]
  },
  {
   "cell_type": "code",
   "execution_count": null,
   "metadata": {},
   "outputs": [],
   "source": []
  }
 ],
 "metadata": {
  "kernelspec": {
   "display_name": "Python 3.7.11 ('mlp')",
   "language": "python",
   "name": "python3"
  },
  "language_info": {
   "codemirror_mode": {
    "name": "ipython",
    "version": 3
   },
   "file_extension": ".py",
   "mimetype": "text/x-python",
   "name": "python",
   "nbconvert_exporter": "python",
   "pygments_lexer": "ipython3",
   "version": "3.7.11"
  },
  "orig_nbformat": 4,
  "vscode": {
   "interpreter": {
    "hash": "76293e17429ae2c839469a84a4692f69b1d764ad81a6a044a99c52430bb10e84"
   }
  }
 },
 "nbformat": 4,
 "nbformat_minor": 2
}
