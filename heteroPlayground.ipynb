{
 "cells": [
  {
   "cell_type": "code",
   "execution_count": 53,
   "metadata": {},
   "outputs": [],
   "source": [
    "from torch_geometric.data import HeteroData\n",
    "import torch\n",
    "from TwibotSmallEdgeHetero import TwibotSmallEdgeHetero\n",
    "\n",
    "\n",
    "embedding_size,dropout,lr,weight_decay,svdComponents=128,0.3,1e-3,5e-3,100"
   ]
  },
  {
   "cell_type": "code",
   "execution_count": 54,
   "metadata": {},
   "outputs": [
    {
     "name": "stdout",
     "output_type": "stream",
     "text": [
      "Loading train.json\n",
      "Loading test.json\n",
      "Small dataset version, not loading support.json\n",
      "Loading dev.json\n",
      "Finished\n",
      "Loading labels...   Finished\n",
      "Loading user description embeddings\n",
      "Finished\n",
      "Running tweet embedding\n",
      "Finished\n",
      "Processing feature3...   Finished\n",
      "Processing feature4...   Finished\n",
      "Building graph   Finished\n"
     ]
    }
   ],
   "source": [
    "\n",
    "device = torch.device('cuda' if torch.cuda.is_available() else 'cpu')\n",
    "homogeneous = TwibotSmallEdgeHetero(device=device,process=True,save=True,dev=False, svdComponents=svdComponents)\n",
    "\n",
    "des_tensor,tweets_tensor,num_prop,category_prop,edge_index,edge_type,labels,train_idx,val_idx,test_idx=homogeneous.dataloader()"
   ]
  },
  {
   "cell_type": "code",
   "execution_count": 55,
   "metadata": {},
   "outputs": [
    {
     "name": "stdout",
     "output_type": "stream",
     "text": [
      "torch.Size([1999788])\n",
      "tensor([[      0,       0,       0,  ...,   11825,   11825,   11825],\n",
      "        [  11826,   11827,   11828,  ..., 2011611, 2011612, 2011613]])\n",
      "torch.Size([2, 1999788])\n"
     ]
    }
   ],
   "source": [
    "# print(.shape)\n",
    "tweeterEdgeIndices = (edge_type == 4).nonzero().squeeze()\n",
    "print(tweeterEdgeIndices.shape)\n",
    "\n",
    "tweeterEdges = edge_index[:,tweeterEdgeIndices]\n",
    "print(tweeterEdges)\n",
    "print(tweeterEdges.shape)"
   ]
  },
  {
   "cell_type": "code",
   "execution_count": 56,
   "metadata": {},
   "outputs": [],
   "source": [
    "## initialising the dataset object for our heterogeneous dataset\n",
    "\n",
    "data = HeteroData()\n",
    "data['user'].des = des_tensor\n",
    "data['user'].cat = category_prop\n",
    "data['user'].num = num_prop\n",
    "# data['user'].x = None\n",
    "data['user'].x = torch.cat((des_tensor, category_prop, num_prop), dim=1)\n",
    "data['user'].y = labels\n",
    "data['user'].train_idx = train_idx\n",
    "data['user'].val_idx = val_idx\n",
    "data['user'].test_idx = test_idx\n",
    "data['tweet'].x = tweets_tensor\n",
    "\n",
    "data['user', 'following', 'user'].edge_index = edge_index[:, (edge_type == 0).nonzero().squeeze()]\n",
    "data['user', 'followedBy', 'user'].edge_index = edge_index[:, (edge_type == 1).nonzero().squeeze()]\n",
    "data['tweet', 'mentions', 'user'].edge_index = edge_index[:, (edge_type == 2).nonzero().squeeze()]\n",
    "data['tweet', 'retweets', 'user'].edge_index = edge_index[:, (edge_type == 3).nonzero().squeeze()]\n",
    "data['user','writes', 'tweet'].edge_index = edge_index[:, (edge_type == 4).nonzero().squeeze()]"
   ]
  },
  {
   "cell_type": "code",
   "execution_count": 57,
   "metadata": {},
   "outputs": [
    {
     "name": "stdout",
     "output_type": "stream",
     "text": [
      "True\n",
      "False\n",
      "False\n"
     ]
    }
   ],
   "source": [
    "print(data.has_isolated_nodes())\n",
    "print(data.has_self_loops())\n",
    "print(data.is_undirected())\n",
    "\n",
    "\n",
    "\n"
   ]
  },
  {
   "cell_type": "code",
   "execution_count": 58,
   "metadata": {},
   "outputs": [],
   "source": [
    "\n",
    "\n",
    "class HeteroTwibot():\n",
    "    def __init__(self, edgeHetero: TwibotSmallEdgeHetero):\n",
    "        des_tensor,tweets_tensor,num_prop,category_prop,edge_index,edge_type,labels,train_idx,val_idx,test_idx=edgeHetero.dataloader()\n",
    "        self.data = HeteroData()\n",
    "\n",
    "        self.data['user'].des = des_tensor\n",
    "        self.data['user'].cat = category_prop\n",
    "        self.data['user'].num = num_prop\n",
    "        # self.data['user'].x = None\n",
    "        self.data['user'].x = torch.cat((des_tensor, category_prop, num_prop), dim=1)\n",
    "        self.data['user'].y = labels\n",
    "        self.data['user'].train_idx = train_idx\n",
    "        self.data['user'].val_idx = val_idx\n",
    "        self.data['user'].test_idx = test_idx\n",
    "        self.data['tweet'].x = tweets_tensor\n",
    "\n",
    "        self.data['user', 'following', 'user'].edge_index = edge_index[:, (edge_type == 0).nonzero().squeeze()]\n",
    "        self.data['user', 'followedBy', 'user'].edge_index = edge_index[:, (edge_type == 1).nonzero().squeeze()]\n",
    "        self.data['tweet', 'mentions', 'user'].edge_index = edge_index[:, (edge_type == 2).nonzero().squeeze()]\n",
    "        self.data['tweet', 'retweets', 'user'].edge_index = edge_index[:, (edge_type == 3).nonzero().squeeze()]\n",
    "        self.data['user','writes', 'tweet'].edge_index = edge_index[:, (edge_type == 4).nonzero().squeeze()]\n",
    "        "
   ]
  },
  {
   "cell_type": "code",
   "execution_count": 59,
   "metadata": {},
   "outputs": [
    {
     "name": "stdout",
     "output_type": "stream",
     "text": [
      "Loading labels...   Finished\n",
      "Loading user description embeddings\n",
      "Finished\n",
      "Running tweet embedding\n",
      "Finished\n",
      "Processing feature3...   Finished\n",
      "Processing feature4...   Finished\n",
      "Building graph   Finished\n",
      "True\n",
      "False\n",
      "False\n"
     ]
    }
   ],
   "source": [
    "heteroTwibot = HeteroTwibot(homogeneous)\n",
    "\n",
    "print(heteroTwibot.data.has_isolated_nodes())\n",
    "print(heteroTwibot.data.has_self_loops())\n",
    "print(heteroTwibot.data.is_undirected())"
   ]
  },
  {
   "cell_type": "code",
   "execution_count": 60,
   "metadata": {},
   "outputs": [
    {
     "name": "stdout",
     "output_type": "stream",
     "text": [
      "Loading labels...   Finished\n",
      "Loading user description embeddings\n",
      "Finished\n",
      "Running tweet embedding\n",
      "Finished\n",
      "Processing feature3...   Finished\n",
      "Processing feature4...   Finished\n",
      "Building graph   Finished\n"
     ]
    }
   ],
   "source": [
    "from HeteroTwibot import initializeHeteroTwibot\n",
    "\n",
    "dataset = initializeHeteroTwibot(homogeneous)"
   ]
  },
  {
   "cell_type": "code",
   "execution_count": 61,
   "metadata": {},
   "outputs": [
    {
     "name": "stdout",
     "output_type": "stream",
     "text": [
      "[('user', 'following', 'user'), ('user', 'followedBy', 'user'), ('tweet', 'mentions', 'user'), ('tweet', 'retweets', 'user'), ('user', 'writes', 'tweet')]\n"
     ]
    }
   ],
   "source": [
    "print(dataset.edge_types)"
   ]
  },
  {
   "cell_type": "code",
   "execution_count": 62,
   "metadata": {},
   "outputs": [
    {
     "data": {
      "text/plain": [
       "NeighborLoader()"
      ]
     },
     "execution_count": 62,
     "metadata": {},
     "output_type": "execute_result"
    }
   ],
   "source": [
    "from torch_geometric.loader import NeighborLoader\n",
    "\n",
    "batch_size = 128\n",
    "kwargs = {'num_workers': min(torch.cuda.device_count(),4) if torch.cuda.device_count() > 0 and torch.device.type == 'cuda' else 1, 'persistent_workers': True, 'batch_size': batch_size}\n",
    "train_loader = NeighborLoader(dataset, num_neighbors=[100] * 3,shuffle=False, input_nodes=('user',dataset['user'].train_mask), **kwargs)"
   ]
  }
 ],
 "metadata": {
  "kernelspec": {
   "display_name": "Python 3.7.11 ('mlp')",
   "language": "python",
   "name": "python3"
  },
  "language_info": {
   "codemirror_mode": {
    "name": "ipython",
    "version": 3
   },
   "file_extension": ".py",
   "mimetype": "text/x-python",
   "name": "python",
   "nbconvert_exporter": "python",
   "pygments_lexer": "ipython3",
   "version": "3.7.11"
  },
  "orig_nbformat": 4,
  "vscode": {
   "interpreter": {
    "hash": "76293e17429ae2c839469a84a4692f69b1d764ad81a6a044a99c52430bb10e84"
   }
  }
 },
 "nbformat": 4,
 "nbformat_minor": 2
}
